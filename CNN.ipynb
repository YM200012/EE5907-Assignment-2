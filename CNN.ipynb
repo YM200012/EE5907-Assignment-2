{
 "cells": [
  {
   "cell_type": "code",
   "execution_count": 1,
   "id": "26cd9496",
   "metadata": {},
   "outputs": [],
   "source": [
    "import numpy as np\n",
    "import matplotlib.pyplot as plt\n",
    "import cv2\n",
    "import os\n",
    "import matplotlib.colors as colors\n",
    "from mpl_toolkits.mplot3d import Axes3D\n",
    "import matplotlib.cm as cmx\n",
    "import itertools\n",
    "import torch\n",
    "import torch.nn as nn\n",
    "import torch.utils.data as utils_data\n",
    "from torchvision import datasets, transforms\n",
    "from PIL import Image"
   ]
  },
  {
   "cell_type": "code",
   "execution_count": 2,
   "id": "be1dc209",
   "metadata": {},
   "outputs": [
    {
     "name": "stdout",
     "output_type": "stream",
     "text": [
      "choosed data: [1, 2, 3, 4, 5, 6, 7, 8, 9, 10, 11, 12, 13, 14, 15, 16, 17, 18, 19, 20, 21, 22, 23, 24, 25]\n"
     ]
    }
   ],
   "source": [
    "choice = np.random.permutation([i for i in range(1,68)])\n",
    "choice = sorted (choice[0:25])\n",
    "choice = list(range(1,25+1))\n",
    "print('choosed data:',choice)"
   ]
  },
  {
   "cell_type": "code",
   "execution_count": 3,
   "id": "989c7964",
   "metadata": {},
   "outputs": [
    {
     "name": "stdout",
     "output_type": "stream",
     "text": [
      "image size: 4250\n",
      "train image size: 2975\n",
      "test image size: 1275\n"
     ]
    }
   ],
   "source": [
    "image = []\n",
    "im_train = []\n",
    "im_test = []\n",
    "for index in choice:\n",
    "    temp = ['PIE/'+str(index)+'/'+str(i+1)+'.jpg' for i in range(0,170)]\n",
    "    number = round(len(temp)*0.7)\n",
    "    id_train = np.random.permutation([i for i in range(0,len(temp))])\n",
    "    id_train = sorted(id_train[0:number])\n",
    "    train = []\n",
    "    test = []\n",
    "    for i in range(0,len(temp)):\n",
    "        if i in id_train:\n",
    "            train.append(temp[i])\n",
    "        else:\n",
    "            test.append(temp[i])\n",
    "    im_train.extend(train)\n",
    "    im_test.extend(test)\n",
    "    image.extend(temp)\n",
    "\n",
    "print('image size:',len(image))\n",
    "print('train image size:',len(im_train))\n",
    "print('test image size:',len(im_test))\n"
   ]
  },
  {
   "cell_type": "code",
   "execution_count": 4,
   "id": "16c5aa54",
   "metadata": {},
   "outputs": [
    {
     "name": "stdout",
     "output_type": "stream",
     "text": [
      "self image size: 10\n",
      "self train image size: 7\n",
      "self test image size: 3\n"
     ]
    }
   ],
   "source": [
    "self = ['own/processed/'+str(i+1)+'.jpg' for i in range (0,10)]\n",
    "number = round(len(self)*0.7)\n",
    "a = np.random.permutation([i for i in range(0,len(self))])\n",
    "a = sorted(a[0:number])\n",
    "self_train = []\n",
    "self_test = []\n",
    "for i in range(0,len(self)):\n",
    "    if i in a:\n",
    "        self_train.append(self[i])\n",
    "    else:\n",
    "        self_test.append(self[i])\n",
    "print('self image size:',len(self))\n",
    "print('self train image size:',len(self_train))\n",
    "print('self test image size:',len(self_test))"
   ]
  },
  {
   "cell_type": "code",
   "execution_count": 5,
   "id": "d93e8c11",
   "metadata": {},
   "outputs": [
    {
     "name": "stdout",
     "output_type": "stream",
     "text": [
      "(2982, 32, 32, 3)\n",
      "(1278, 32, 32, 3)\n",
      "(2982,)\n",
      "(1278,)\n"
     ]
    }
   ],
   "source": [
    "label = []\n",
    "train_set = []\n",
    "\n",
    "whole_train = im_train+self_train\n",
    "for i in range(len(whole_train)):\n",
    "    path = whole_train[i]\n",
    "    path2 = path.split('/')\n",
    "    image = cv2.imread(path)\n",
    "    #image = cv2.cvtColor(image,cv2.COLOR_BGR2GRAY)\n",
    "    train_set.append(image)\n",
    "    \n",
    "    if path2[0]=='PIE':\n",
    "        label.append(path2[1])\n",
    "    elif path2[0]=='own':\n",
    "        label.append('0')\n",
    "train_set = np.array(train_set)\n",
    "train_set = train_set\n",
    "label = np.array(label)\n",
    "\n",
    "test_label = []\n",
    "test_set = []\n",
    "\n",
    "whole_test = im_test+self_test\n",
    "for i in range(len(whole_test)):\n",
    "    path = whole_test[i]\n",
    "    path2 = path.split('/')\n",
    "    image = cv2.imread(path)\n",
    "    #image = cv2.cvtColor(image,cv2.COLOR_BGR2GRAY)\n",
    "    test_set.append(image)\n",
    "    \n",
    "    if path2[0]=='PIE':\n",
    "        test_label.append(path2[1])\n",
    "    elif path2[0]=='own':\n",
    "        test_label.append('0')\n",
    "test_set = np.array(test_set)\n",
    "test_set = test_set\n",
    "test_label = np.array(test_label)\n",
    "\n",
    "print(train_set.shape)\n",
    "print(test_set.shape)\n",
    "print(label.shape)\n",
    "print(test_label.shape)"
   ]
  },
  {
   "cell_type": "code",
   "execution_count": 6,
   "id": "9d966ef4",
   "metadata": {},
   "outputs": [
    {
     "name": "stdout",
     "output_type": "stream",
     "text": [
      "(7, 32, 32, 3)\n",
      "(3, 32, 32, 3)\n",
      "(7,)\n",
      "(3,)\n"
     ]
    }
   ],
   "source": [
    "own_train = []\n",
    "own_label = []\n",
    "for i in range(len(self_train)):\n",
    "    path = self_train[i]\n",
    "    path2 = path.split('/')\n",
    "    image = cv2.imread(path)\n",
    "    #image = cv2.cvtColor(image,cv2.COLOR_BGR2GRAY)\n",
    "    own_train.append(image)\n",
    "    \n",
    "    if path2[0]=='PIE':\n",
    "        own_label.append(path2[1])\n",
    "    elif path2[0]=='own':\n",
    "        own_label.append('0')\n",
    "own_train = np.array(own_train)\n",
    "own_label = np.array(own_label)\n",
    "\n",
    "own_test = []\n",
    "own_labeltest = []\n",
    "for i in range(len(self_test)):\n",
    "    path = self_test[i]\n",
    "    path2 = path.split('/')\n",
    "    image = cv2.imread(path)\n",
    "    #image = cv2.cvtColor(image,cv2.COLOR_BGR2GRAY)\n",
    "    own_test.append(image)\n",
    "    \n",
    "    if path2[0]=='PIE':\n",
    "        own_labeltest.append(path2[1])\n",
    "    elif path2[0]=='own':\n",
    "        own_labeltest.append('0')\n",
    "own_test = np.array(own_test)\n",
    "own_labeltest = np.array(own_labeltest)\n",
    "\n",
    "print(own_train.shape)\n",
    "print(own_test.shape)\n",
    "print(own_label.shape)\n",
    "print(own_labeltest.shape)"
   ]
  },
  {
   "cell_type": "code",
   "execution_count": 7,
   "id": "300de9c6",
   "metadata": {},
   "outputs": [
    {
     "name": "stdout",
     "output_type": "stream",
     "text": [
      "(2989, 3, 32, 32)\n",
      "(1281, 3, 32, 32)\n",
      "(2989,)\n",
      "(1281,)\n"
     ]
    }
   ],
   "source": [
    "train = np.r_[own_train,train_set]\n",
    "train = np.transpose(train, (0, 3, 1, 2))\n",
    "test = np.r_[own_test,test_set]\n",
    "test = np.transpose(test, (0, 3, 1, 2))\n",
    "train_label = np.r_[label,own_label]\n",
    "test_label = np.r_[test_label,own_labeltest]\n",
    "print(train.shape)\n",
    "print(test.shape)\n",
    "print(train_label.shape)\n",
    "print(test_label.shape)"
   ]
  },
  {
   "cell_type": "code",
   "execution_count": 8,
   "id": "c419b2d6",
   "metadata": {},
   "outputs": [
    {
     "name": "stdout",
     "output_type": "stream",
     "text": [
      "uint8\n",
      "['1' '1' '1' ... '0' '0' '0']\n",
      "<U2\n"
     ]
    }
   ],
   "source": [
    "print(train.dtype)\n",
    "print(train_label)\n",
    "l = train_label.astype(int)\n",
    "l2 = test_label.astype(int)\n",
    "print(train_label.dtype)"
   ]
  },
  {
   "cell_type": "code",
   "execution_count": 9,
   "id": "62912594",
   "metadata": {},
   "outputs": [
    {
     "name": "stdout",
     "output_type": "stream",
     "text": [
      "Data is ready!\n"
     ]
    }
   ],
   "source": [
    "traindata = utils_data.TensorDataset(torch.Tensor(train), torch.LongTensor(l))\n",
    "testdata = utils_data.TensorDataset(torch.Tensor(test), torch.LongTensor(l2))\n",
    "\n",
    "train_loader = utils_data.DataLoader(dataset=traindata, batch_size=32, shuffle=True)\n",
    "test_loader = utils_data.DataLoader(dataset=testdata, batch_size=32, shuffle=True)\n",
    "print('Data is ready!')"
   ]
  },
  {
   "cell_type": "code",
   "execution_count": 10,
   "id": "f3a130ba",
   "metadata": {},
   "outputs": [],
   "source": [
    "class CNN(nn.Module):\n",
    "    def __init__(self, num_classes=4):\n",
    "        super(CNN, self).__init__()\n",
    "        self.l1 = nn.Sequential(\n",
    "            nn.Conv2d(in_channels=3, out_channels=20, kernel_size=5, stride=1, padding=1),\n",
    "            nn.ReLU(),\n",
    "            nn.MaxPool2d(kernel_size=2, stride=2))\n",
    "        self.l2 = nn.Sequential(\n",
    "            nn.Conv2d(in_channels=20, out_channels=50, kernel_size=5, stride=1, padding=1),\n",
    "            nn.BatchNorm2d(50),\n",
    "            nn.ReLU(),\n",
    "            nn.MaxPool2d(kernel_size=2, stride=2))\n",
    "        self.l3 = nn.Sequential(\n",
    "            nn.Conv2d(in_channels=50, out_channels=500, kernel_size=5, stride=1, padding=1),\n",
    "            nn.BatchNorm2d(500),\n",
    "            nn.ReLU(),\n",
    "            nn.MaxPool2d(kernel_size=2, stride=2))\n",
    "        self.fc1 = nn.Sequential(\n",
    "            nn.Dropout(0.2),  \n",
    "            nn.Linear(2000, 2000),\n",
    "            nn.ReLU()) \n",
    "        self.fc2 = nn.Sequential(\n",
    "            nn.Dropout(0.2),  \n",
    "            nn.Linear(2000, 2000),\n",
    "            nn.ReLU())\n",
    "        self.fc3 = nn.Linear(2000,26)\n",
    "    def forward(self,x):\n",
    "        x = self.l1(x)\n",
    "        x = self.l2(x)\n",
    "        x = self.l3(x)\n",
    "        x = x.reshape(x.size(0), -1)\n",
    "        x = self.fc1(x)\n",
    "        x = self.fc2(x)\n",
    "        out = self.fc3(x)\n",
    "        return out"
   ]
  },
  {
   "cell_type": "code",
   "execution_count": 11,
   "id": "94f84e45",
   "metadata": {},
   "outputs": [],
   "source": [
    "\n",
    "model = CNN()\n",
    "optimizer = torch.optim.Adam(model.parameters(), lr=0.001, weight_decay=0.0001)\n",
    "loss_func = nn.CrossEntropyLoss()"
   ]
  },
  {
   "cell_type": "code",
   "execution_count": 12,
   "id": "306f3888",
   "metadata": {},
   "outputs": [
    {
     "name": "stdout",
     "output_type": "stream",
     "text": [
      "epoch=0\ttrain loss=3.011493\ttrain accuracy=0.110\ttest accuracy=0.195\n",
      "epoch=1\ttrain loss=2.045042\ttrain accuracy=0.361\ttest accuracy=0.415\n",
      "epoch=2\ttrain loss=1.181612\ttrain accuracy=0.635\ttest accuracy=0.793\n",
      "epoch=3\ttrain loss=0.740064\ttrain accuracy=0.792\ttest accuracy=0.865\n",
      "epoch=4\ttrain loss=0.569099\ttrain accuracy=0.836\ttest accuracy=0.820\n",
      "epoch=5\ttrain loss=0.473988\ttrain accuracy=0.861\ttest accuracy=0.845\n",
      "epoch=6\ttrain loss=0.446531\ttrain accuracy=0.868\ttest accuracy=0.877\n",
      "epoch=7\ttrain loss=0.328271\ttrain accuracy=0.897\ttest accuracy=0.898\n",
      "epoch=8\ttrain loss=0.287016\ttrain accuracy=0.906\ttest accuracy=0.869\n",
      "epoch=9\ttrain loss=0.327754\ttrain accuracy=0.895\ttest accuracy=0.867\n",
      "epoch=10\ttrain loss=0.291047\ttrain accuracy=0.907\ttest accuracy=0.862\n",
      "epoch=11\ttrain loss=0.230241\ttrain accuracy=0.917\ttest accuracy=0.895\n",
      "epoch=12\ttrain loss=0.238389\ttrain accuracy=0.922\ttest accuracy=0.902\n",
      "epoch=13\ttrain loss=0.227568\ttrain accuracy=0.924\ttest accuracy=0.914\n",
      "epoch=14\ttrain loss=0.229688\ttrain accuracy=0.925\ttest accuracy=0.892\n",
      "epoch=15\ttrain loss=0.213489\ttrain accuracy=0.932\ttest accuracy=0.924\n",
      "epoch=16\ttrain loss=0.179123\ttrain accuracy=0.940\ttest accuracy=0.891\n",
      "epoch=17\ttrain loss=0.239421\ttrain accuracy=0.920\ttest accuracy=0.889\n",
      "epoch=18\ttrain loss=0.183208\ttrain accuracy=0.937\ttest accuracy=0.921\n",
      "epoch=19\ttrain loss=0.167657\ttrain accuracy=0.945\ttest accuracy=0.929\n",
      "epoch=20\ttrain loss=0.191071\ttrain accuracy=0.938\ttest accuracy=0.905\n",
      "epoch=21\ttrain loss=0.160059\ttrain accuracy=0.947\ttest accuracy=0.926\n",
      "epoch=22\ttrain loss=0.188544\ttrain accuracy=0.940\ttest accuracy=0.885\n",
      "epoch=23\ttrain loss=0.150275\ttrain accuracy=0.944\ttest accuracy=0.877\n",
      "epoch=24\ttrain loss=0.136608\ttrain accuracy=0.949\ttest accuracy=0.914\n",
      "epoch=25\ttrain loss=0.156230\ttrain accuracy=0.944\ttest accuracy=0.934\n",
      "epoch=26\ttrain loss=0.144152\ttrain accuracy=0.951\ttest accuracy=0.923\n",
      "epoch=27\ttrain loss=0.183174\ttrain accuracy=0.942\ttest accuracy=0.895\n",
      "epoch=28\ttrain loss=0.186981\ttrain accuracy=0.936\ttest accuracy=0.923\n",
      "epoch=29\ttrain loss=0.130505\ttrain accuracy=0.954\ttest accuracy=0.923\n",
      "epoch=30\ttrain loss=0.118689\ttrain accuracy=0.962\ttest accuracy=0.931\n",
      "epoch=31\ttrain loss=0.130373\ttrain accuracy=0.956\ttest accuracy=0.893\n",
      "epoch=32\ttrain loss=0.159081\ttrain accuracy=0.946\ttest accuracy=0.925\n",
      "epoch=33\ttrain loss=0.130799\ttrain accuracy=0.954\ttest accuracy=0.942\n",
      "epoch=34\ttrain loss=0.098605\ttrain accuracy=0.964\ttest accuracy=0.927\n",
      "epoch=35\ttrain loss=0.154651\ttrain accuracy=0.954\ttest accuracy=0.913\n",
      "epoch=36\ttrain loss=0.107261\ttrain accuracy=0.959\ttest accuracy=0.933\n",
      "epoch=37\ttrain loss=0.106520\ttrain accuracy=0.962\ttest accuracy=0.919\n",
      "epoch=38\ttrain loss=0.125485\ttrain accuracy=0.956\ttest accuracy=0.937\n",
      "epoch=39\ttrain loss=0.116525\ttrain accuracy=0.961\ttest accuracy=0.919\n",
      "epoch=40\ttrain loss=0.118647\ttrain accuracy=0.961\ttest accuracy=0.923\n",
      "epoch=41\ttrain loss=0.144399\ttrain accuracy=0.954\ttest accuracy=0.924\n",
      "epoch=42\ttrain loss=0.145886\ttrain accuracy=0.952\ttest accuracy=0.940\n",
      "epoch=43\ttrain loss=0.090800\ttrain accuracy=0.966\ttest accuracy=0.928\n",
      "epoch=44\ttrain loss=0.101204\ttrain accuracy=0.964\ttest accuracy=0.945\n",
      "epoch=45\ttrain loss=0.094103\ttrain accuracy=0.966\ttest accuracy=0.901\n",
      "epoch=46\ttrain loss=0.141161\ttrain accuracy=0.953\ttest accuracy=0.918\n",
      "epoch=47\ttrain loss=0.127876\ttrain accuracy=0.956\ttest accuracy=0.932\n",
      "epoch=48\ttrain loss=0.102971\ttrain accuracy=0.963\ttest accuracy=0.919\n",
      "epoch=49\ttrain loss=0.121312\ttrain accuracy=0.958\ttest accuracy=0.925\n",
      "epoch=50\ttrain loss=0.115278\ttrain accuracy=0.962\ttest accuracy=0.913\n",
      "epoch=51\ttrain loss=0.095332\ttrain accuracy=0.969\ttest accuracy=0.934\n",
      "epoch=52\ttrain loss=0.083664\ttrain accuracy=0.974\ttest accuracy=0.933\n",
      "epoch=53\ttrain loss=0.098233\ttrain accuracy=0.965\ttest accuracy=0.934\n",
      "epoch=54\ttrain loss=0.098635\ttrain accuracy=0.968\ttest accuracy=0.934\n",
      "epoch=55\ttrain loss=0.092170\ttrain accuracy=0.969\ttest accuracy=0.913\n",
      "epoch=56\ttrain loss=0.107316\ttrain accuracy=0.967\ttest accuracy=0.927\n",
      "epoch=57\ttrain loss=0.138208\ttrain accuracy=0.960\ttest accuracy=0.931\n",
      "epoch=58\ttrain loss=0.092659\ttrain accuracy=0.968\ttest accuracy=0.938\n",
      "epoch=59\ttrain loss=0.083617\ttrain accuracy=0.971\ttest accuracy=0.932\n",
      "epoch=60\ttrain loss=0.088810\ttrain accuracy=0.970\ttest accuracy=0.936\n",
      "epoch=61\ttrain loss=0.083484\ttrain accuracy=0.972\ttest accuracy=0.937\n",
      "epoch=62\ttrain loss=0.127044\ttrain accuracy=0.964\ttest accuracy=0.921\n",
      "epoch=63\ttrain loss=0.098943\ttrain accuracy=0.969\ttest accuracy=0.939\n",
      "epoch=64\ttrain loss=0.093673\ttrain accuracy=0.968\ttest accuracy=0.926\n",
      "epoch=65\ttrain loss=0.130842\ttrain accuracy=0.959\ttest accuracy=0.920\n",
      "epoch=66\ttrain loss=0.094862\ttrain accuracy=0.968\ttest accuracy=0.941\n",
      "epoch=67\ttrain loss=0.064688\ttrain accuracy=0.977\ttest accuracy=0.934\n",
      "epoch=68\ttrain loss=0.095440\ttrain accuracy=0.971\ttest accuracy=0.906\n",
      "epoch=69\ttrain loss=0.083933\ttrain accuracy=0.971\ttest accuracy=0.932\n",
      "epoch=70\ttrain loss=0.084500\ttrain accuracy=0.972\ttest accuracy=0.935\n",
      "epoch=71\ttrain loss=0.089583\ttrain accuracy=0.967\ttest accuracy=0.918\n",
      "epoch=72\ttrain loss=0.063226\ttrain accuracy=0.978\ttest accuracy=0.927\n",
      "epoch=73\ttrain loss=0.044982\ttrain accuracy=0.983\ttest accuracy=0.939\n",
      "epoch=74\ttrain loss=0.072528\ttrain accuracy=0.976\ttest accuracy=0.945\n",
      "epoch=75\ttrain loss=0.088987\ttrain accuracy=0.970\ttest accuracy=0.874\n",
      "epoch=76\ttrain loss=0.101870\ttrain accuracy=0.966\ttest accuracy=0.929\n",
      "epoch=77\ttrain loss=0.104870\ttrain accuracy=0.966\ttest accuracy=0.936\n",
      "epoch=78\ttrain loss=0.073967\ttrain accuracy=0.977\ttest accuracy=0.940\n",
      "epoch=79\ttrain loss=0.075123\ttrain accuracy=0.977\ttest accuracy=0.932\n",
      "epoch=80\ttrain loss=0.065615\ttrain accuracy=0.977\ttest accuracy=0.934\n",
      "epoch=81\ttrain loss=0.079358\ttrain accuracy=0.975\ttest accuracy=0.941\n",
      "epoch=82\ttrain loss=0.090975\ttrain accuracy=0.973\ttest accuracy=0.941\n",
      "epoch=83\ttrain loss=0.083170\ttrain accuracy=0.971\ttest accuracy=0.930\n",
      "epoch=84\ttrain loss=0.077621\ttrain accuracy=0.974\ttest accuracy=0.941\n",
      "epoch=85\ttrain loss=0.079208\ttrain accuracy=0.973\ttest accuracy=0.933\n",
      "epoch=86\ttrain loss=0.092442\ttrain accuracy=0.974\ttest accuracy=0.944\n",
      "epoch=87\ttrain loss=0.080992\ttrain accuracy=0.972\ttest accuracy=0.940\n",
      "epoch=88\ttrain loss=0.073436\ttrain accuracy=0.975\ttest accuracy=0.932\n",
      "epoch=89\ttrain loss=0.080665\ttrain accuracy=0.975\ttest accuracy=0.938\n",
      "epoch=90\ttrain loss=0.092203\ttrain accuracy=0.972\ttest accuracy=0.936\n",
      "epoch=91\ttrain loss=0.073971\ttrain accuracy=0.978\ttest accuracy=0.940\n",
      "epoch=92\ttrain loss=0.078141\ttrain accuracy=0.975\ttest accuracy=0.940\n",
      "epoch=93\ttrain loss=0.073821\ttrain accuracy=0.977\ttest accuracy=0.928\n",
      "epoch=94\ttrain loss=0.082236\ttrain accuracy=0.972\ttest accuracy=0.937\n",
      "epoch=95\ttrain loss=0.079031\ttrain accuracy=0.976\ttest accuracy=0.931\n",
      "epoch=96\ttrain loss=0.057953\ttrain accuracy=0.981\ttest accuracy=0.941\n",
      "epoch=97\ttrain loss=0.063621\ttrain accuracy=0.980\ttest accuracy=0.938\n",
      "epoch=98\ttrain loss=0.048412\ttrain accuracy=0.983\ttest accuracy=0.937\n",
      "epoch=99\ttrain loss=0.061207\ttrain accuracy=0.982\ttest accuracy=0.944\n"
     ]
    },
    {
     "data": {
      "text/plain": [
       "[<matplotlib.lines.Line2D at 0x1774b5c10>]"
      ]
     },
     "execution_count": 12,
     "metadata": {},
     "output_type": "execute_result"
    },
    {
     "data": {
      "image/png": "[encoded data removed]",
      "text/plain": [
       "<Figure size 600x500 with 1 Axes>"
      ]
     },
     "metadata": {},
     "output_type": "display_data"
    },
    {
     "data": {
      "image/png": "[encoded data removed]",
      "text/plain": [
       "<Figure size 600x500 with 1 Axes>"
      ]
     },
     "metadata": {},
     "output_type": "display_data"
    }
   ],
   "source": [
    "best_accuracy = 0\n",
    "test1 = np.zeros(100)\n",
    "loss1 = np.zeros(100)\n",
    "train_size = 2989\n",
    "test_size = 1281\n",
    "for epoch in range(100):\n",
    "    running_loss = 0.0\n",
    "    train_acc = 0.0\n",
    "    for step, (batch_image, batch_label) in enumerate(train_loader):\n",
    "        model.train()\n",
    "        batch_image, batch_label = batch_image, batch_label\n",
    "        batch_output = model(batch_image)\n",
    "        batch_loss = loss_func(batch_output, batch_label)\n",
    "\n",
    "        optimizer.zero_grad()\n",
    "        batch_loss.backward()\n",
    "        optimizer.step()\n",
    "\n",
    "        running_loss += batch_loss.item()\n",
    "\n",
    "        # train accuracy\n",
    "        _, train_predicted = torch.max(batch_output.data, 1)\n",
    "        train_acc += (train_predicted == batch_label).sum().item()\n",
    "\n",
    "    train_acc /= train_size\n",
    "    running_loss /= (step+1)\n",
    "\n",
    "    # ----------test----------\n",
    "    model.eval()\n",
    "    test_acc = 0.0\n",
    "    for test_image, test_label in test_loader:\n",
    "        test_image, test_label = test_image, test_label\n",
    "        test_output = model(test_image)\n",
    "        _, predicted = torch.max(test_output.data, 1)\n",
    "        test_acc += (predicted == test_label).sum().item()\n",
    "    test_acc /= test_size\n",
    "\n",
    "    print('epoch={:d}\\ttrain loss={:.6f}\\ttrain accuracy={:.3f}\\ttest accuracy={:.3f}'.format(\n",
    "        epoch, running_loss, train_acc, test_acc))\n",
    "    test1[epoch] = test_acc\n",
    "    loss1[epoch] = running_loss\n",
    "\n",
    "    if test_acc >= best_accuracy:\n",
    "        torch.save(model.state_dict(), './CNN_model.pkl')\n",
    "        best_accuracy = test_acc\n",
    "plt.figure(figsize=(6, 5))\n",
    "plt.plot(test1,'red')\n",
    "plt.figure(figsize=(6, 5))\n",
    "plt.plot(loss1,'red')"
   ]
  },
  {
   "cell_type": "code",
   "execution_count": null,
   "id": "c875e7d7",
   "metadata": {},
   "outputs": [],
   "source": []
  },
  {
   "cell_type": "code",
   "execution_count": null,
   "id": "eba72981",
   "metadata": {},
   "outputs": [],
   "source": []
  }
 ],
 "metadata": {
  "kernelspec": {
   "display_name": "Python 3 (ipykernel)",
   "language": "python",
   "name": "python3"
  },
  "language_info": {
   "codemirror_mode": {
    "name": "ipython",
    "version": 3
   },
   "file_extension": ".py",
   "mimetype": "text/x-python",
   "name": "python",
   "nbconvert_exporter": "python",
   "pygments_lexer": "ipython3",
   "version": "3.11.3"
  }
 },
 "nbformat": 4,
 "nbformat_minor": 5
}
